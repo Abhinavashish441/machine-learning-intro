{
 "cells": [
  {
   "cell_type": "markdown",
   "id": "005615b7",
   "metadata": {
    "papermill": {
     "duration": 0.006262,
     "end_time": "2022-07-11T07:55:46.341377",
     "exception": false,
     "start_time": "2022-07-11T07:55:46.335115",
     "status": "completed"
    },
    "tags": []
   },
   "source": [
    "**This notebook is an exercise in the [Introduction to Machine Learning](https://www.kaggle.com/learn/intro-to-machine-learning) course.  You can reference the tutorial at [this link](https://www.kaggle.com/dansbecker/your-first-machine-learning-model).**\n",
    "\n",
    "---\n"
   ]
  },
  {
   "cell_type": "markdown",
   "id": "a6496dbe",
   "metadata": {
    "papermill": {
     "duration": 0.004907,
     "end_time": "2022-07-11T07:55:46.351817",
     "exception": false,
     "start_time": "2022-07-11T07:55:46.346910",
     "status": "completed"
    },
    "tags": []
   },
   "source": [
    "## Recap\n",
    "So far, you have loaded your data and reviewed it with the following code. Run this cell to set up your coding environment where the previous step left off."
   ]
  },
  {
   "cell_type": "code",
   "execution_count": 1,
   "id": "b5065a39",
   "metadata": {
    "execution": {
     "iopub.execute_input": "2022-07-11T07:55:46.363859Z",
     "iopub.status.busy": "2022-07-11T07:55:46.363395Z",
     "iopub.status.idle": "2022-07-11T07:55:47.647416Z",
     "shell.execute_reply": "2022-07-11T07:55:47.646574Z"
    },
    "papermill": {
     "duration": 1.293462,
     "end_time": "2022-07-11T07:55:47.650503",
     "exception": false,
     "start_time": "2022-07-11T07:55:46.357041",
     "status": "completed"
    },
    "tags": []
   },
   "outputs": [
    {
     "name": "stdout",
     "output_type": "stream",
     "text": [
      "Setup Complete\n"
     ]
    }
   ],
   "source": [
    "# Code you have previously used to load data\n",
    "import pandas as pd\n",
    "\n",
    "# Path of the file to read\n",
    "iowa_file_path = '../input/home-data-for-ml-course/train.csv'\n",
    "\n",
    "home_data = pd.read_csv(iowa_file_path)\n",
    "\n",
    "# Set up code checking\n",
    "from learntools.core import binder\n",
    "binder.bind(globals())\n",
    "from learntools.machine_learning.ex3 import *\n",
    "\n",
    "print(\"Setup Complete\")"
   ]
  },
  {
   "cell_type": "markdown",
   "id": "8acabe3f",
   "metadata": {
    "papermill": {
     "duration": 0.005204,
     "end_time": "2022-07-11T07:55:47.662253",
     "exception": false,
     "start_time": "2022-07-11T07:55:47.657049",
     "status": "completed"
    },
    "tags": []
   },
   "source": [
    "# Exercises\n",
    "\n",
    "## Step 1: Specify Prediction Target\n",
    "Select the target variable, which corresponds to the sales price. Save this to a new variable called `y`. You'll need to print a list of the columns to find the name of the column you need.\n"
   ]
  },
  {
   "cell_type": "code",
   "execution_count": 2,
   "id": "84097cc9",
   "metadata": {
    "execution": {
     "iopub.execute_input": "2022-07-11T07:55:47.675242Z",
     "iopub.status.busy": "2022-07-11T07:55:47.674189Z",
     "iopub.status.idle": "2022-07-11T07:55:47.684235Z",
     "shell.execute_reply": "2022-07-11T07:55:47.683203Z"
    },
    "papermill": {
     "duration": 0.018825,
     "end_time": "2022-07-11T07:55:47.686641",
     "exception": false,
     "start_time": "2022-07-11T07:55:47.667816",
     "status": "completed"
    },
    "tags": []
   },
   "outputs": [
    {
     "data": {
      "text/plain": [
       "Index(['Id', 'MSSubClass', 'MSZoning', 'LotFrontage', 'LotArea', 'Street',\n",
       "       'Alley', 'LotShape', 'LandContour', 'Utilities', 'LotConfig',\n",
       "       'LandSlope', 'Neighborhood', 'Condition1', 'Condition2', 'BldgType',\n",
       "       'HouseStyle', 'OverallQual', 'OverallCond', 'YearBuilt', 'YearRemodAdd',\n",
       "       'RoofStyle', 'RoofMatl', 'Exterior1st', 'Exterior2nd', 'MasVnrType',\n",
       "       'MasVnrArea', 'ExterQual', 'ExterCond', 'Foundation', 'BsmtQual',\n",
       "       'BsmtCond', 'BsmtExposure', 'BsmtFinType1', 'BsmtFinSF1',\n",
       "       'BsmtFinType2', 'BsmtFinSF2', 'BsmtUnfSF', 'TotalBsmtSF', 'Heating',\n",
       "       'HeatingQC', 'CentralAir', 'Electrical', '1stFlrSF', '2ndFlrSF',\n",
       "       'LowQualFinSF', 'GrLivArea', 'BsmtFullBath', 'BsmtHalfBath', 'FullBath',\n",
       "       'HalfBath', 'BedroomAbvGr', 'KitchenAbvGr', 'KitchenQual',\n",
       "       'TotRmsAbvGrd', 'Functional', 'Fireplaces', 'FireplaceQu', 'GarageType',\n",
       "       'GarageYrBlt', 'GarageFinish', 'GarageCars', 'GarageArea', 'GarageQual',\n",
       "       'GarageCond', 'PavedDrive', 'WoodDeckSF', 'OpenPorchSF',\n",
       "       'EnclosedPorch', '3SsnPorch', 'ScreenPorch', 'PoolArea', 'PoolQC',\n",
       "       'Fence', 'MiscFeature', 'MiscVal', 'MoSold', 'YrSold', 'SaleType',\n",
       "       'SaleCondition', 'SalePrice'],\n",
       "      dtype='object')"
      ]
     },
     "execution_count": 2,
     "metadata": {},
     "output_type": "execute_result"
    }
   ],
   "source": [
    "# print the list of columns in the dataset to find the name of the prediction target\n",
    "home_data.columns"
   ]
  },
  {
   "cell_type": "code",
   "execution_count": 3,
   "id": "02f1dcea",
   "metadata": {
    "execution": {
     "iopub.execute_input": "2022-07-11T07:55:47.700007Z",
     "iopub.status.busy": "2022-07-11T07:55:47.699116Z",
     "iopub.status.idle": "2022-07-11T07:55:47.711300Z",
     "shell.execute_reply": "2022-07-11T07:55:47.710515Z"
    },
    "papermill": {
     "duration": 0.020939,
     "end_time": "2022-07-11T07:55:47.713334",
     "exception": false,
     "start_time": "2022-07-11T07:55:47.692395",
     "status": "completed"
    },
    "tags": []
   },
   "outputs": [
    {
     "data": {
      "application/javascript": [
       "parent.postMessage({\"jupyterEvent\": \"custom.exercise_interaction\", \"data\": {\"outcomeType\": 1, \"valueTowardsCompletion\": 0.25, \"interactionType\": 1, \"questionType\": 2, \"questionId\": \"1_SetTarget\", \"learnToolsVersion\": \"0.3.4\", \"failureMessage\": \"\", \"exceptionClass\": \"\", \"trace\": \"\"}}, \"*\")"
      ],
      "text/plain": [
       "<IPython.core.display.Javascript object>"
      ]
     },
     "metadata": {},
     "output_type": "display_data"
    },
    {
     "data": {
      "text/markdown": [
       "<span style=\"color:#33cc33\">Correct</span>"
      ],
      "text/plain": [
       "Correct"
      ]
     },
     "metadata": {},
     "output_type": "display_data"
    }
   ],
   "source": [
    "y = home_data.SalePrice\n",
    "\n",
    "# Check your answer\n",
    "step_1.check()"
   ]
  },
  {
   "cell_type": "code",
   "execution_count": 4,
   "id": "459d7e28",
   "metadata": {
    "execution": {
     "iopub.execute_input": "2022-07-11T07:55:47.727462Z",
     "iopub.status.busy": "2022-07-11T07:55:47.726504Z",
     "iopub.status.idle": "2022-07-11T07:55:47.730831Z",
     "shell.execute_reply": "2022-07-11T07:55:47.729894Z"
    },
    "papermill": {
     "duration": 0.013414,
     "end_time": "2022-07-11T07:55:47.732923",
     "exception": false,
     "start_time": "2022-07-11T07:55:47.719509",
     "status": "completed"
    },
    "tags": []
   },
   "outputs": [],
   "source": [
    "# The lines below will show you a hint or the solution.\n",
    "# step_1.hint() \n",
    "#step_1.solution()"
   ]
  },
  {
   "cell_type": "markdown",
   "id": "63d41d60",
   "metadata": {
    "papermill": {
     "duration": 0.006033,
     "end_time": "2022-07-11T07:55:47.744964",
     "exception": false,
     "start_time": "2022-07-11T07:55:47.738931",
     "status": "completed"
    },
    "tags": []
   },
   "source": [
    "## Step 2: Create X\n",
    "Now you will create a DataFrame called `X` holding the predictive features.\n",
    "\n",
    "Since you want only some columns from the original data, you'll first create a list with the names of the columns you want in `X`.\n",
    "\n",
    "You'll use just the following columns in the list (you can copy and paste the whole list to save some typing, though you'll still need to add quotes):\n",
    "  * LotArea\n",
    "  * YearBuilt\n",
    "  * 1stFlrSF\n",
    "  * 2ndFlrSF\n",
    "  * FullBath\n",
    "  * BedroomAbvGr\n",
    "  * TotRmsAbvGrd\n",
    "\n",
    "After you've created that list of features, use it to create the DataFrame that you'll use to fit the model."
   ]
  },
  {
   "cell_type": "code",
   "execution_count": 5,
   "id": "a3a55763",
   "metadata": {
    "execution": {
     "iopub.execute_input": "2022-07-11T07:55:47.758609Z",
     "iopub.status.busy": "2022-07-11T07:55:47.757873Z",
     "iopub.status.idle": "2022-07-11T07:55:47.773331Z",
     "shell.execute_reply": "2022-07-11T07:55:47.772544Z"
    },
    "papermill": {
     "duration": 0.024557,
     "end_time": "2022-07-11T07:55:47.775383",
     "exception": false,
     "start_time": "2022-07-11T07:55:47.750826",
     "status": "completed"
    },
    "tags": []
   },
   "outputs": [
    {
     "data": {
      "application/javascript": [
       "parent.postMessage({\"jupyterEvent\": \"custom.exercise_interaction\", \"data\": {\"outcomeType\": 1, \"valueTowardsCompletion\": 0.25, \"interactionType\": 1, \"questionType\": 2, \"questionId\": \"2_SelectPredictionData\", \"learnToolsVersion\": \"0.3.4\", \"failureMessage\": \"\", \"exceptionClass\": \"\", \"trace\": \"\"}}, \"*\")"
      ],
      "text/plain": [
       "<IPython.core.display.Javascript object>"
      ]
     },
     "metadata": {},
     "output_type": "display_data"
    },
    {
     "data": {
      "text/markdown": [
       "<span style=\"color:#33cc33\">Correct</span>"
      ],
      "text/plain": [
       "Correct"
      ]
     },
     "metadata": {},
     "output_type": "display_data"
    }
   ],
   "source": [
    "# Create the list of features below\n",
    "feature_names = ['LotArea','YearBuilt','1stFlrSF','2ndFlrSF','FullBath','BedroomAbvGr','TotRmsAbvGrd']\n",
    "\n",
    "# Select data corresponding to features in feature_names\n",
    "X = home_data[feature_names]\n",
    "\n",
    "# Check your answer\n",
    "step_2.check()"
   ]
  },
  {
   "cell_type": "code",
   "execution_count": 6,
   "id": "ca3ef516",
   "metadata": {
    "execution": {
     "iopub.execute_input": "2022-07-11T07:55:47.789687Z",
     "iopub.status.busy": "2022-07-11T07:55:47.788772Z",
     "iopub.status.idle": "2022-07-11T07:55:47.792772Z",
     "shell.execute_reply": "2022-07-11T07:55:47.792082Z"
    },
    "papermill": {
     "duration": 0.013333,
     "end_time": "2022-07-11T07:55:47.794799",
     "exception": false,
     "start_time": "2022-07-11T07:55:47.781466",
     "status": "completed"
    },
    "tags": []
   },
   "outputs": [],
   "source": [
    "# step_2.hint()\n",
    "# step_2.solution()"
   ]
  },
  {
   "cell_type": "markdown",
   "id": "2f305013",
   "metadata": {
    "papermill": {
     "duration": 0.005671,
     "end_time": "2022-07-11T07:55:47.806592",
     "exception": false,
     "start_time": "2022-07-11T07:55:47.800921",
     "status": "completed"
    },
    "tags": []
   },
   "source": [
    "## Review Data\n",
    "Before building a model, take a quick look at **X** to verify it looks sensible"
   ]
  },
  {
   "cell_type": "code",
   "execution_count": 7,
   "id": "e8c9a818",
   "metadata": {
    "execution": {
     "iopub.execute_input": "2022-07-11T07:55:47.820192Z",
     "iopub.status.busy": "2022-07-11T07:55:47.819273Z",
     "iopub.status.idle": "2022-07-11T07:55:47.854260Z",
     "shell.execute_reply": "2022-07-11T07:55:47.852995Z"
    },
    "papermill": {
     "duration": 0.044072,
     "end_time": "2022-07-11T07:55:47.856467",
     "exception": false,
     "start_time": "2022-07-11T07:55:47.812395",
     "status": "completed"
    },
    "tags": []
   },
   "outputs": [
    {
     "name": "stdout",
     "output_type": "stream",
     "text": [
      "             LotArea    YearBuilt     1stFlrSF     2ndFlrSF     FullBath  \\\n",
      "count    1460.000000  1460.000000  1460.000000  1460.000000  1460.000000   \n",
      "mean    10516.828082  1971.267808  1162.626712   346.992466     1.565068   \n",
      "std      9981.264932    30.202904   386.587738   436.528436     0.550916   \n",
      "min      1300.000000  1872.000000   334.000000     0.000000     0.000000   \n",
      "25%      7553.500000  1954.000000   882.000000     0.000000     1.000000   \n",
      "50%      9478.500000  1973.000000  1087.000000     0.000000     2.000000   \n",
      "75%     11601.500000  2000.000000  1391.250000   728.000000     2.000000   \n",
      "max    215245.000000  2010.000000  4692.000000  2065.000000     3.000000   \n",
      "\n",
      "       BedroomAbvGr  TotRmsAbvGrd  \n",
      "count   1460.000000   1460.000000  \n",
      "mean       2.866438      6.517808  \n",
      "std        0.815778      1.625393  \n",
      "min        0.000000      2.000000  \n",
      "25%        2.000000      5.000000  \n",
      "50%        3.000000      6.000000  \n",
      "75%        3.000000      7.000000  \n",
      "max        8.000000     14.000000  \n",
      "   LotArea  YearBuilt  1stFlrSF  2ndFlrSF  FullBath  BedroomAbvGr  \\\n",
      "0     8450       2003       856       854         2             3   \n",
      "1     9600       1976      1262         0         2             3   \n",
      "2    11250       2001       920       866         2             3   \n",
      "3     9550       1915       961       756         1             3   \n",
      "4    14260       2000      1145      1053         2             4   \n",
      "\n",
      "   TotRmsAbvGrd  \n",
      "0             8  \n",
      "1             6  \n",
      "2             6  \n",
      "3             7  \n",
      "4             9  \n"
     ]
    }
   ],
   "source": [
    "# Review data\n",
    "# print description or statistics from X\n",
    "print(X.describe())\n",
    "\n",
    "# print the top few lines\n",
    "print(X.head())"
   ]
  },
  {
   "cell_type": "markdown",
   "id": "9f9f2998",
   "metadata": {
    "papermill": {
     "duration": 0.005769,
     "end_time": "2022-07-11T07:55:47.868041",
     "exception": false,
     "start_time": "2022-07-11T07:55:47.862272",
     "status": "completed"
    },
    "tags": []
   },
   "source": [
    "## Step 3: Specify and Fit Model\n",
    "Create a `DecisionTreeRegressor` and save it iowa_model. Ensure you've done the relevant import from sklearn to run this command.\n",
    "\n",
    "Then fit the model you just created using the data in `X` and `y` that you saved above."
   ]
  },
  {
   "cell_type": "code",
   "execution_count": 8,
   "id": "39e2d5f4",
   "metadata": {
    "execution": {
     "iopub.execute_input": "2022-07-11T07:55:47.881495Z",
     "iopub.status.busy": "2022-07-11T07:55:47.880649Z",
     "iopub.status.idle": "2022-07-11T07:55:47.898175Z",
     "shell.execute_reply": "2022-07-11T07:55:47.897457Z"
    },
    "papermill": {
     "duration": 0.026132,
     "end_time": "2022-07-11T07:55:47.900027",
     "exception": false,
     "start_time": "2022-07-11T07:55:47.873895",
     "status": "completed"
    },
    "tags": []
   },
   "outputs": [
    {
     "data": {
      "application/javascript": [
       "parent.postMessage({\"jupyterEvent\": \"custom.exercise_interaction\", \"data\": {\"outcomeType\": 1, \"valueTowardsCompletion\": 0.25, \"interactionType\": 1, \"questionType\": 2, \"questionId\": \"3_CreateModel\", \"learnToolsVersion\": \"0.3.4\", \"failureMessage\": \"\", \"exceptionClass\": \"\", \"trace\": \"\"}}, \"*\")"
      ],
      "text/plain": [
       "<IPython.core.display.Javascript object>"
      ]
     },
     "metadata": {},
     "output_type": "display_data"
    },
    {
     "data": {
      "text/markdown": [
       "<span style=\"color:#33cc33\">Correct</span>"
      ],
      "text/plain": [
       "Correct"
      ]
     },
     "metadata": {},
     "output_type": "display_data"
    }
   ],
   "source": [
    " from sklearn.tree import DecisionTreeRegressor\n",
    "#specify the model. \n",
    "#For model reproducibility, set a numeric value for random_state when specifying the model\n",
    "iowa_model = DecisionTreeRegressor(random_state=1)\n",
    "\n",
    "# Fit the model\n",
    "iowa_model.fit(X,y)\n",
    "\n",
    "# Check your answer\n",
    "step_3.check()"
   ]
  },
  {
   "cell_type": "code",
   "execution_count": 9,
   "id": "80aad708",
   "metadata": {
    "execution": {
     "iopub.execute_input": "2022-07-11T07:55:47.914359Z",
     "iopub.status.busy": "2022-07-11T07:55:47.913521Z",
     "iopub.status.idle": "2022-07-11T07:55:47.917033Z",
     "shell.execute_reply": "2022-07-11T07:55:47.916375Z"
    },
    "papermill": {
     "duration": 0.012851,
     "end_time": "2022-07-11T07:55:47.919057",
     "exception": false,
     "start_time": "2022-07-11T07:55:47.906206",
     "status": "completed"
    },
    "tags": []
   },
   "outputs": [],
   "source": [
    "# step_3.hint()\n",
    "# step_3.solution()"
   ]
  },
  {
   "cell_type": "markdown",
   "id": "4e69ac20",
   "metadata": {
    "papermill": {
     "duration": 0.006097,
     "end_time": "2022-07-11T07:55:47.931340",
     "exception": false,
     "start_time": "2022-07-11T07:55:47.925243",
     "status": "completed"
    },
    "tags": []
   },
   "source": [
    "## Step 4: Make Predictions\n",
    "Make predictions with the model's `predict` command using `X` as the data. Save the results to a variable called `predictions`."
   ]
  },
  {
   "cell_type": "code",
   "execution_count": 10,
   "id": "f133d271",
   "metadata": {
    "execution": {
     "iopub.execute_input": "2022-07-11T07:55:47.946172Z",
     "iopub.status.busy": "2022-07-11T07:55:47.945611Z",
     "iopub.status.idle": "2022-07-11T07:55:47.958054Z",
     "shell.execute_reply": "2022-07-11T07:55:47.957373Z"
    },
    "papermill": {
     "duration": 0.022548,
     "end_time": "2022-07-11T07:55:47.960119",
     "exception": false,
     "start_time": "2022-07-11T07:55:47.937571",
     "status": "completed"
    },
    "tags": []
   },
   "outputs": [
    {
     "name": "stdout",
     "output_type": "stream",
     "text": [
      "[208500. 181500. 223500. ... 266500. 142125. 147500.]\n"
     ]
    },
    {
     "data": {
      "application/javascript": [
       "parent.postMessage({\"jupyterEvent\": \"custom.exercise_interaction\", \"data\": {\"outcomeType\": 1, \"valueTowardsCompletion\": 0.25, \"interactionType\": 1, \"questionType\": 2, \"questionId\": \"4_MakePredictions\", \"learnToolsVersion\": \"0.3.4\", \"failureMessage\": \"\", \"exceptionClass\": \"\", \"trace\": \"\"}}, \"*\")"
      ],
      "text/plain": [
       "<IPython.core.display.Javascript object>"
      ]
     },
     "metadata": {},
     "output_type": "display_data"
    },
    {
     "data": {
      "text/markdown": [
       "<span style=\"color:#33cc33\">Correct</span>"
      ],
      "text/plain": [
       "Correct"
      ]
     },
     "metadata": {},
     "output_type": "display_data"
    }
   ],
   "source": [
    "predictions = iowa_model.predict(X)\n",
    "print(predictions)\n",
    "\n",
    "# Check your answer\n",
    "step_4.check()"
   ]
  },
  {
   "cell_type": "code",
   "execution_count": 11,
   "id": "6c4d2d96",
   "metadata": {
    "execution": {
     "iopub.execute_input": "2022-07-11T07:55:47.975008Z",
     "iopub.status.busy": "2022-07-11T07:55:47.974473Z",
     "iopub.status.idle": "2022-07-11T07:55:47.978381Z",
     "shell.execute_reply": "2022-07-11T07:55:47.977462Z"
    },
    "papermill": {
     "duration": 0.013226,
     "end_time": "2022-07-11T07:55:47.980234",
     "exception": false,
     "start_time": "2022-07-11T07:55:47.967008",
     "status": "completed"
    },
    "tags": []
   },
   "outputs": [],
   "source": [
    "# step_4.hint()\n",
    "# step_4.solution()"
   ]
  },
  {
   "cell_type": "markdown",
   "id": "66aca740",
   "metadata": {
    "papermill": {
     "duration": 0.006278,
     "end_time": "2022-07-11T07:55:47.993238",
     "exception": false,
     "start_time": "2022-07-11T07:55:47.986960",
     "status": "completed"
    },
    "tags": []
   },
   "source": [
    "## Think About Your Results\n",
    "\n",
    "Use the `head` method to compare the top few predictions to the actual home values (in `y`) for those same homes. Anything surprising?\n"
   ]
  },
  {
   "cell_type": "code",
   "execution_count": 12,
   "id": "a6198211",
   "metadata": {
    "execution": {
     "iopub.execute_input": "2022-07-11T07:55:48.008028Z",
     "iopub.status.busy": "2022-07-11T07:55:48.007694Z",
     "iopub.status.idle": "2022-07-11T07:55:48.012088Z",
     "shell.execute_reply": "2022-07-11T07:55:48.011249Z"
    },
    "papermill": {
     "duration": 0.014156,
     "end_time": "2022-07-11T07:55:48.014035",
     "exception": false,
     "start_time": "2022-07-11T07:55:47.999879",
     "status": "completed"
    },
    "tags": []
   },
   "outputs": [],
   "source": [
    "# You can write code in this cell\n"
   ]
  },
  {
   "cell_type": "markdown",
   "id": "a4190aeb",
   "metadata": {
    "papermill": {
     "duration": 0.006182,
     "end_time": "2022-07-11T07:55:48.026739",
     "exception": false,
     "start_time": "2022-07-11T07:55:48.020557",
     "status": "completed"
    },
    "tags": []
   },
   "source": [
    "It's natural to ask how accurate the model's predictions will be and how you can improve that. That will be you're next step.\n",
    "\n",
    "# Keep Going\n",
    "\n",
    "You are ready for **[Model Validation](https://www.kaggle.com/dansbecker/model-validation).**\n"
   ]
  },
  {
   "cell_type": "markdown",
   "id": "8551ed4d",
   "metadata": {
    "papermill": {
     "duration": 0.00663,
     "end_time": "2022-07-11T07:55:48.040098",
     "exception": false,
     "start_time": "2022-07-11T07:55:48.033468",
     "status": "completed"
    },
    "tags": []
   },
   "source": [
    "---\n",
    "\n",
    "\n",
    "\n",
    "\n",
    "*Have questions or comments? Visit the [course discussion forum](https://www.kaggle.com/learn/intro-to-machine-learning/discussion) to chat with other learners.*"
   ]
  }
 ],
 "metadata": {
  "kernelspec": {
   "display_name": "Python 3",
   "language": "python",
   "name": "python3"
  },
  "language_info": {
   "codemirror_mode": {
    "name": "ipython",
    "version": 3
   },
   "file_extension": ".py",
   "mimetype": "text/x-python",
   "name": "python",
   "nbconvert_exporter": "python",
   "pygments_lexer": "ipython3",
   "version": "3.7.12"
  },
  "papermill": {
   "default_parameters": {},
   "duration": 11.732252,
   "end_time": "2022-07-11T07:55:48.666177",
   "environment_variables": {},
   "exception": null,
   "input_path": "__notebook__.ipynb",
   "output_path": "__notebook__.ipynb",
   "parameters": {},
   "start_time": "2022-07-11T07:55:36.933925",
   "version": "2.3.4"
  }
 },
 "nbformat": 4,
 "nbformat_minor": 5
}
